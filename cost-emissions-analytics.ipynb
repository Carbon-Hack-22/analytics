{
 "cells": [
  {
   "cell_type": "markdown",
   "metadata": {},
   "source": [
    "<h1>Analysis of Cost / CO2 Emissions Reduction Tradeoffs</h1>"
   ]
  },
  {
   "cell_type": "markdown",
   "metadata": {},
   "source": [
    "The cost / CO2 emissions reduction tradeoffs are calculated and analyzed using the Green Software Foundation API/SDKs to access the Watttime data."
   ]
  },
  {
   "cell_type": "code",
   "execution_count": null,
   "metadata": {},
   "outputs": [
    {
     "ename": "",
     "evalue": "",
     "output_type": "error",
     "traceback": [
      "\u001b[1;31mRunning cells with 'Python 3.7.9 64-bit' requires ipykernel package.\n",
      "\u001b[1;31mRun the following command to install 'ipykernel' into the Python environment. \n",
      "\u001b[1;31mCommand: '/Library/Frameworks/Python.framework/Versions/3.7/bin/python3.7 -m pip install ipykernel -U --force-reinstall'"
     ]
    }
   ],
   "source": [
    "# Libraries and Input Data\n",
    "import urllib.parse\n",
    "import requests\n",
    "import pandas as pd\n",
    "\n",
    "# The forecast window is fixed at 24 hours, i.e. 1440 minutes\n",
    "forecast_window = '1440'\n",
    "# The cost / CO2 emission reduction ratio is a 0 to 10 scale\n",
    "# Test Data\n",
    "cost_emphasis = 10\n",
    "co2_emission = 10 - cost_emphasis\n",
    "# GCP (Google Cloud Platform) normalized test data\n",
    "\n",
    "# GCP to Azure region mapping test data.\n",
    "azure_regions = ['canadacentral','canadaeast','centralus','eastus','eastus2','northcentralus','southcentralus',\\\n",
    "                 'westcentralus','westus','westus2','westus3',\\\n",
    "                 'francecentral','germanywestcentral','northeurope','norwayeast','uksouth','ukwest','westeurope',\\\n",
    "                 'swedencentral','australiaeast','australiacentral','australiasoutheast']\n",
    "\n",
    "gcp_regions = ['northamerica-northeast1','northamerica-northeast2','us-east5','us-east1','us-east4','us-central1',\\\n",
    "               'us-south1','us-west2','us-west1','us-west4','us-west3',\\\n",
    "                'europe-west9','europe-west3','europe-west2','europe-north1','europe-west2','europe-west2',\\\n",
    "                'europe-west4','europe-north1','australia-southeast1','australia-southeast1','australia-southeast2']\n",
    "\n",
    "\n"
   ]
  },
  {
   "cell_type": "markdown",
   "metadata": {},
   "source": [
    "### Azure and GCP Region and Location Mapping\n",
    "\n",
    "Note: This mapping is for demonstration purposes and may not (typically will not) align with actual power sources\n",
    "<pre>\n",
    "\n",
    "</pre>\n",
    "Azure&nbsp;&nbsp;&nbsp;&nbsp;&nbsp;&nbsp;&nbsp;&nbsp;&nbsp;&nbsp;&nbsp;&nbsp;&nbsp;&nbsp;&nbsp;&nbsp;&nbsp;&nbsp;&nbsp;&nbsp;&nbsp;&nbsp;&nbsp;&nbsp;&nbsp;&nbsp;&nbsp;&nbsp;&nbsp;&nbsp;&nbsp;&nbsp;&nbsp;&nbsp;&nbsp;&nbsp;&nbsp;&nbsp;&nbsp;&nbsp;&nbsp;&nbsp;&nbsp;&nbsp;&nbsp;&nbsp;&nbsp;&nbsp;&nbsp;&nbsp;&nbsp;&nbsp;&nbsp;GCP\n",
    "Region| Location | Region | Location | GCP \"Low Carbon\"\n",
    "---|---|---|---|---\n",
    "canadacentral | Toronto | northamerica-northeast2 | Toronto\n",
    "canadaeast | Quebec City | northamerica-northeast1 | Montréal\n",
    "centralus | Iowa | us-east5 | Columbus\n",
    "eastus | Virginia | us-east1 | South Carolina\n",
    "eastus2 | Virginia | us-east4 | N. Virginia\n",
    "northcentralus | Illinois | us-central1 | Iowa | Y\n",
    "southcentralus | Texas | us-south1 | Dallas\n",
    "westus | California | us-west2 | Los Angeles\n",
    "westus2 | Washington | us-west1 | Oregon | Y\n",
    "westus3 | Arizona | us-west4 | Las Vegas\n",
    "westcentralus | Wyoming | us-west3 | Salt Lake City\n",
    "francecentral | Paris | europe-west9 | Paris | Y\n",
    "germanywestcentral | Frankfurt | europe-west3 | Frankfurt\n",
    "northeurope | Ireland | europe-west2 | London\n",
    "norwayeast | Oslo | europe-north1 | Finland | Y\n",
    "uksouth | London | europe-west2 | London\n",
    "ukwest | Cardiff | europe-west2 | London\n",
    "westeurope | Netherlands | europe-west4 | Netherlands\n",
    "swedencentral | Gävle | europe-north1 | Finland | Y\n",
    "australiaeast | New South Wales | australia-southeast1 | Sydney\n",
    "australiacentral | Canberra | australia-southeast1 | Sydney\n",
    "australiasoutheast | Victoria | australia-southeast2 | Melbourne\n",
    "\n",
    "<pre>\n",
    "\n",
    "</pre>\n",
    "Coming Soon\n",
    "Region| Location | Region | Location\n",
    "---|---|---|---\n",
    "eastus3 | Georgia | us-east1 | South Carolina\n",
    "austriaeast | Vienna | europe-west3 | Frankfurt\n",
    "denmarkeast | Copenhagen | europe-north1 | Finland | Y\n",
    "greececentral | Athens | europe-west8 | Milan\n",
    "italynorth | Milan | europe-west8 | Milan\n",
    "polandcentral | Warsaw | europe-central2 | Warsaw\n",
    "spaincentral | Madrid | europe-southwest1 | Madrid | Y\n",
    "\n",
    "<pre>\n",
    "\n",
    "</pre>\n",
    "Not supported by Green Software Fundation API or Watttime\n",
    "Region| Location | Region | Location\n",
    "---|---|---|---\n",
    "belgiumcentral | Brussels | europe-west1 | Belgium\n",
    "finlandcentral | Helsinki | europe-north1 | Finland | Y\n",
    "switzerlandnorth | Zürich | europe-west6 | Zürich | Y\n"
   ]
  },
  {
   "cell_type": "code",
   "execution_count": null,
   "metadata": {},
   "outputs": [
    {
     "ename": "",
     "evalue": "",
     "output_type": "error",
     "traceback": [
      "\u001b[1;31mRunning cells with 'Python 3.7.9 64-bit' requires ipykernel package.\n",
      "\u001b[1;31mRun the following command to install 'ipykernel' into the Python environment. \n",
      "\u001b[1;31mCommand: '/Library/Frameworks/Python.framework/Versions/3.7/bin/python3.7 -m pip install ipykernel -U --force-reinstall'"
     ]
    }
   ],
   "source": [
    "# The most recent forecasted emission data with the calculated optimal marginal intensity window per region\n",
    "\n",
    "cas_url = 'https://carbon-aware-api.azurewebsites.net'\n",
    "cas_uri_path = '/emissions/forecasts/current'\n",
    "regions = azure_regions\n",
    "locations = []\n",
    "for r in regions:\n",
    "  locations.append('location={}'.format(r))\n",
    "location_str = '&'.join(locations)\n",
    "start_time = urllib.parse.quote('')\n",
    "end_time = urllib.parse.quote('')\n",
    "window_size = urllib.parse.quote(forecast_window)\n",
    "# Full url is \"req_url = '{}{}?{}&time={}&toTime={}&windowSize={}'.format(cas_url,cas_uri_path,location_str,\n",
    "# start_time,end_time,window_size,)\" however, we are not using the start and end time.\n",
    "req_url = '{}{}?{}&windowSize={}'.format(\n",
    "  cas_url,\n",
    "  cas_uri_path,\n",
    "  location_str,\n",
    "  window_size,\n",
    ")\n",
    "print(req_url, '\\n')\n",
    "r = requests.get(req_url)\n",
    "forecast_current_df = pd.DataFrame(r.json())\n",
    "result_df = pd.DataFrame(columns=['region','location','emission_value','norm_em_value','timestamp'])\n",
    "print(\"result_df\")\n",
    "display(result_df)\n",
    "result_df['region'] = forecast_current_df['location']\n",
    "\n",
    "print(\"forecast_data = \")                                     # Lable for testing\n",
    "# Popularte the best emissions data and find max & min of the best emissions locations\n",
    "max_emissions = 0\n",
    "i = 0 \n",
    "for row in forecast_current_df.itertuples():\n",
    "  forecast_data = forecast_current_df.at[i, 'forecastData']\n",
    "  print(forecast_data)                                        # Data for testing\n",
    "  data = forecast_data[0]\n",
    "  result_df.at[i,'location'] = data['location']\n",
    "  result_df.at[i,'emission_value'] = data['value']\n",
    "  result_df.at[i,'timestamp'] = data['timestamp']\n",
    "\n",
    "  # Find the maximum and minimum of the best emisson values\n",
    "  if i == 0:\n",
    "    min_emissions = result_df.at[i,'emission_value']\n",
    "  if max_emissions < result_df.at[i,'emission_value']:\n",
    "    max_emissions = result_df.at[i,'emission_value']\n",
    "  if min_emissions > result_df.at[i,'emission_value']:\n",
    "    min_emissions = result_df.at[i,'emission_value']\n",
    "  i = i+1\n",
    "\n",
    "# Normalize the best emisson values\n",
    "i = 0 \n",
    "for row in forecast_current_df.itertuples():\n",
    "  forecast_data = forecast_current_df.at[i, 'forecastData']\n",
    "  data = forecast_data[0]\n",
    "  #norm = (data['value'] - min_emissions)/(max_emissions - min_emissions)\n",
    "  result_df.at[i,'norm_em_value'] = (data['value'] - min_emissions)/(max_emissions - min_emissions)\n",
    "  i = i+1\n",
    "\n",
    "# View Results\n",
    "print(\" \")\n",
    "print(\"Normalization Range\")\n",
    "print(\"max_emissions = \", max_emissions)\n",
    "print(\"min_emissions = \", min_emissions, \"\\n\")\n",
    "\n",
    "print(\"result_df\")\n",
    "display(result_df)\n"
   ]
  },
  {
   "cell_type": "code",
   "execution_count": null,
   "metadata": {},
   "outputs": [
    {
     "ename": "",
     "evalue": "",
     "output_type": "error",
     "traceback": [
      "\u001b[1;31mRunning cells with 'Python 3.7.9 64-bit' requires ipykernel package.\n",
      "\u001b[1;31mRun the following command to install 'ipykernel' into the Python environment. \n",
      "\u001b[1;31mCommand: '/Library/Frameworks/Python.framework/Versions/3.7/bin/python3.7 -m pip install ipykernel -U --force-reinstall'"
     ]
    }
   ],
   "source": [
    "# The most recent forecasted GCP cost estimate data per region\n",
    "\n",
    "#<<< This cell is a work in progress >>>"
   ]
  },
  {
   "cell_type": "code",
   "execution_count": null,
   "metadata": {},
   "outputs": [
    {
     "ename": "",
     "evalue": "",
     "output_type": "error",
     "traceback": [
      "\u001b[1;31mRunning cells with 'Python 3.7.9 64-bit' requires ipykernel package.\n",
      "\u001b[1;31mRun the following command to install 'ipykernel' into the Python environment. \n",
      "\u001b[1;31mCommand: '/Library/Frameworks/Python.framework/Versions/3.7/bin/python3.7 -m pip install ipykernel -U --force-reinstall'"
     ]
    }
   ],
   "source": [
    "# The optimal location to deploy the cloud application based on the cost / CO2 emission tradeoff\n",
    "\n",
    "import random\n",
    "\n",
    "merge_result_df = pd.DataFrame(columns=['azure_region','norm_em_value','gcp_region','norm_est_value'])\n",
    "merge_result_df[['azure_region','norm_em_value']] = result_df[['region','norm_em_value']]\n",
    "\n",
    "# Create GCP Cost Estimate test data \n",
    "norm_est=[]\n",
    "i = 0 \n",
    "while i < len(azure_regions):\n",
    "  norm_est.append((random.randrange(0, 100))/100)\n",
    "  i=i+1\n",
    "#===================================\n",
    "\n",
    "merge_result_df['gcp_region'] = gcp_regions\n",
    "merge_result_df['norm_est_value'] = norm_est\n",
    "\n",
    "#display(merge_result_df)\n",
    "\n",
    "\n",
    "final_result_df = pd.DataFrame(columns=['azure_region','norm_em_value','gcp_region','norm_est_value'])\n",
    "ttest = 0\n",
    "ftest = 0\n",
    "i = 0\n",
    "temp_result = 0.0\n",
    "final_result = 1.0\n",
    "for i in range(len(azure_regions)):\n",
    "  j = 0\n",
    "  while j < len(azure_regions):\n",
    "    temp_result = ((co2_emission * merge_result_df.at[i,'norm_em_value']) + (cost_emphasis * merge_result_df.at[j,'norm_est_value']))/10\n",
    "    print(\"co2 = \", (co2_emission * merge_result_df.at[i,'norm_em_value']), \"   cost = \", (cost_emphasis * merge_result_df.at[j,'norm_est_value']))\n",
    "    if temp_result < final_result:\n",
    "      print(\"final_result = \", final_result)\n",
    "      final_result = temp_result\n",
    "      final_result_df.at[0,'azure_region'] = merge_result_df.at[i,'azure_region']\n",
    "      final_result_df.at[0,'norm_em_value'] = merge_result_df.at[i,'norm_em_value']\n",
    "      final_result_df.at[0,'gcp_region'] = merge_result_df.at[i,'gcp_region']\n",
    "      final_result_df.at[0,'norm_est_value'] = merge_result_df.at[i,'norm_est_value']\n",
    "    j = j+1\n",
    "  i = i+1\n",
    "\n",
    "print(co2_emission, cost_emphasis)\n",
    "print(\"final_result = \", final_result)\n",
    "display(final_result_df)\n",
    "\n"
   ]
  }
 ],
 "metadata": {
  "kernelspec": {
   "display_name": "Python 3.7.9 ('base')",
   "language": "python",
   "name": "python3"
  },
  "language_info": {
   "codemirror_mode": {
    "name": "ipython",
    "version": 3
   },
   "file_extension": ".py",
   "mimetype": "text/x-python",
   "name": "python",
   "nbconvert_exporter": "python",
   "pygments_lexer": "ipython3",
   "version": "3.7.9"
  },
  "orig_nbformat": 4,
  "vscode": {
   "interpreter": {
    "hash": "7d65ace1389f61e6c8425582a5c94ce8d6f1541ec74dbe3dbb3080757afd64f4"
   }
  }
 },
 "nbformat": 4,
 "nbformat_minor": 2
}
